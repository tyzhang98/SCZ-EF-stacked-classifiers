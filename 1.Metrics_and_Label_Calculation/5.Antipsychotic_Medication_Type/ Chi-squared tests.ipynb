{
 "cells": [
  {
   "cell_type": "code",
   "execution_count": 1,
   "metadata": {},
   "outputs": [
    {
     "name": "stdout",
     "output_type": "stream",
     "text": [
      "列联表:\n",
      "remissin_outcome   1   2\n",
      "药物类型                    \n",
      "1                  2   2\n",
      "2                 56  26\n",
      "\n",
      "行百分比:\n",
      "remissin_outcome          1          2\n",
      "药物类型                                  \n",
      "1                 50.000000  50.000000\n",
      "2                 68.292683  31.707317\n",
      "\n",
      "卡方值: 0.0467\n",
      "p值: 0.8290\n",
      "自由度: 1\n",
      "期望频数:\n",
      "remissin_outcome          1          2\n",
      "药物类型                                  \n",
      "1                  2.697674   1.302326\n",
      "2                 55.302326  26.697674\n"
     ]
    }
   ],
   "source": [
    "import pandas as pd\n",
    "from scipy.stats import chi2_contingency\n",
    "\n",
    "# 读取Excel文件\n",
    "df = pd.read_excel('Antipsychotic_Medication_Type.xlsx')\n",
    "\n",
    "# 创建列联表\n",
    "contingency_table = pd.crosstab(df['药物类型'], df['remissin_outcome'])\n",
    "\n",
    "# 计算行百分比\n",
    "row_percentages = contingency_table.div(contingency_table.sum(axis=1), axis=0) * 100\n",
    "\n",
    "# 打印列联表和行百分比\n",
    "print(\"列联表:\")\n",
    "print(contingency_table)\n",
    "print(\"\\n行百分比:\")\n",
    "print(row_percentages)\n",
    "\n",
    "# 进行卡方检验\n",
    "chi2, p, dof, expected = chi2_contingency(contingency_table)\n",
    "\n",
    "# 打印卡方检验结果\n",
    "print(f\"\\n卡方值: {chi2:.4f}\")\n",
    "print(f\"p值: {p:.4f}\")\n",
    "print(f\"自由度: {dof}\")\n",
    "print(\"期望频数:\")\n",
    "print(pd.DataFrame(expected, columns=contingency_table.columns, index=contingency_table.index))"
   ]
  }
 ],
 "metadata": {
  "kernelspec": {
   "display_name": "venv2_ml",
   "language": "python",
   "name": "python3"
  },
  "language_info": {
   "codemirror_mode": {
    "name": "ipython",
    "version": 3
   },
   "file_extension": ".py",
   "mimetype": "text/x-python",
   "name": "python",
   "nbconvert_exporter": "python",
   "pygments_lexer": "ipython3",
   "version": "3.10.11"
  }
 },
 "nbformat": 4,
 "nbformat_minor": 2
}
